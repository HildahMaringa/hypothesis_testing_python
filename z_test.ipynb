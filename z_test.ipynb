{
 "cells": [
  {
   "cell_type": "markdown",
   "id": "57e4b647-ebb8-4141-81b9-0a2656a04970",
   "metadata": {},
   "source": [
    "## Z-Test ##"
   ]
  },
  {
   "cell_type": "code",
   "execution_count": 4,
   "id": "77d54174-06e3-4a76-b0b7-6db847d7037d",
   "metadata": {},
   "outputs": [
    {
     "name": "stdout",
     "output_type": "stream",
     "text": [
      "[118.94127284340675, 87.23851104996916, 103.36708673513789, 67.65662599335704, 98.68453597443268, 121.27678123181411, 125.15610864464152, 82.89137543347461, 91.80458361701105, 95.95693123017858, 59.35018659788958, 125.2547589365625, 110.48034522077468, 107.94614118941432, 115.5862898960917, 94.9399413195826, 103.36410144197208, 112.65649055878747, 111.3893984500415, 92.63437821746136, 81.071968403824, 109.29166122522005, 105.97493228379594, 83.59347578142416, 117.06561814426911, 109.58765106597984, 106.52265865156423, 101.46216810692768, 108.4457440916368, 121.46440310820918, 95.20566129476614, 122.45906123883864, 103.88796401427005, 106.4212587373614, 123.21180346293434, 103.42931892938813, 106.68875886711835, 91.82227155030056, 100.18918792480159, 102.4173305494494]\n",
      "[112.21456378700067, 109.98148788366825, 134.12078126301043, 136.40187883623602, 106.76709370353518, 110.41953769227379, 132.25024654268833, 137.55038203838066, 104.9915664454852, 114.52308834812625, 137.615647545263, 149.64664229471617, 134.97884936043215, 102.61091260608868, 139.7614838669615, 119.50352552076005, 115.81511333647887, 126.17643449125187, 105.84019021280947, 108.6287020804584, 76.68945649211312, 138.2796307635963, 123.94945367292803, 113.731702487413, 120.70882892744716, 119.3688318474585, 112.42335359812219, 109.36700813463347, 115.30879136141164, 83.26450915880292, 95.01119179517224, 115.17639109759637, 140.96961898811827, 127.45433266353106, 132.22468756709142, 131.13004915704337, 117.07149822474153, 125.05809362961092, 119.88484828931193, 113.36352473037404]\n"
     ]
    }
   ],
   "source": [
    "import numpy as np\n",
    "import random\n",
    "from statsmodels.stats.weightstats import ztest as ztest\n",
    "\n",
    "random.seed(20)\n",
    "\n",
    "a = [random.gauss(100, 15) for x in range(40)]\n",
    "b = [random.gauss(120, 15) for x in range(40)]\n",
    "\n",
    "print(a)\n",
    "print(b)"
   ]
  },
  {
   "cell_type": "code",
   "execution_count": 8,
   "id": "98866039-f3f9-4759-9d7a-f7ce04bf9177",
   "metadata": {},
   "outputs": [
    {
     "name": "stdout",
     "output_type": "stream",
     "text": [
      "Z-statistics: 1.3430675401429018\n",
      "P-value: 0.17925010504664385\n",
      "103.16971855035202\n"
     ]
    }
   ],
   "source": [
    "# One-sample Z-test for sample 'a'\n",
    "# Null hypothesis : Mean of a = 100\n",
    "z_stat, p_value = ztest(a, value = 100)\n",
    "\n",
    "print(\"Z-statistics:\", z_stat)\n",
    "print(\"P-value:\", p_value)\n",
    "print(np.mean(a))\n"
   ]
  },
  {
   "cell_type": "markdown",
   "id": "38d498f8-7de5-4b73-9ac6-a90bf8382146",
   "metadata": {},
   "source": [
    "The p-value is greater than 0.05, and the mean of a is close to 100 therefore,\r",
    "we **accept the null hypothesis**.\r\n"
   ]
  },
  {
   "cell_type": "code",
   "execution_count": 14,
   "id": "438ec87f-a0e4-47e6-b4c8-1f3ab5626c7a",
   "metadata": {},
   "outputs": [
    {
     "name": "stdout",
     "output_type": "stream",
     "text": [
      "Z-statistic: -4.726323028827322\n",
      "P-value: 2.2862185838572706e-06\n",
      "103.16971855035202 119.25584826105356\n"
     ]
    }
   ],
   "source": [
    "# Two Sample Z-test for samples 'a' and 'b'\n",
    "# Null Hypothesis: Mean of a = Mean of 'b'\n",
    "z_stat, p_value = ztest(a, b, value=0)\n",
    "\n",
    "print(\"Z-statistic:\", z_stat)\n",
    "print(\"P-value:\", p_value)\n",
    "print(np.mean(a), np.mean(b))"
   ]
  },
  {
   "cell_type": "markdown",
   "id": "cd6b8ec8-85ff-4c0e-b457-dcd3258ef220",
   "metadata": {},
   "source": [
    "The p-value is less than 0.05 and mean of a ≠ mean of b therefore, we **reject the null hypothesis**."
   ]
  }
 ],
 "metadata": {
  "kernelspec": {
   "display_name": "Python 3 (ipykernel)",
   "language": "python",
   "name": "python3"
  },
  "language_info": {
   "codemirror_mode": {
    "name": "ipython",
    "version": 3
   },
   "file_extension": ".py",
   "mimetype": "text/x-python",
   "name": "python",
   "nbconvert_exporter": "python",
   "pygments_lexer": "ipython3",
   "version": "3.12.4"
  }
 },
 "nbformat": 4,
 "nbformat_minor": 5
}
