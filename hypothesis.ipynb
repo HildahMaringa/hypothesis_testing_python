{
 "cells": [
  {
   "cell_type": "code",
   "execution_count": null,
   "id": "eb2b7d35-23d2-4cfd-85be-3ad55c110043",
   "metadata": {},
   "outputs": [],
   "source": [
    "# Hypothesis testing"
   ]
  }
 ],
 "metadata": {
  "kernelspec": {
   "display_name": "Python 3 (ipykernel)",
   "language": "python",
   "name": "python3"
  },
  "language_info": {
   "codemirror_mode": {
    "name": "ipython",
    "version": 3
   },
   "file_extension": ".py",
   "mimetype": "text/x-python",
   "name": "python",
   "nbconvert_exporter": "python",
   "pygments_lexer": "ipython3",
   "version": "3.12.4"
  }
 },
 "nbformat": 4,
 "nbformat_minor": 5
}
