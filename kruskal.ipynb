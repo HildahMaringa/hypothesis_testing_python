{
 "cells": [
  {
   "cell_type": "code",
   "execution_count": 1,
   "id": "2b97e704-f9e1-4626-a0fc-cd0d0b19a991",
   "metadata": {},
   "outputs": [
    {
     "name": "stdout",
     "output_type": "stream",
     "text": [
      "Kruskal-Wallis H-statistic: 27.44\n",
      "P-value: 0.0000\n",
      "There is a significant difference between the group medians.\n"
     ]
    }
   ],
   "source": [
    "import numpy as np\n",
    "from scipy.stats import kruskal\n",
    "\n",
    "# Generate random data for three groups\n",
    "np.random.seed(42)\n",
    "group1 = np.random.randint(40, 60, size=30)  # Random integers between 40 and 60\n",
    "group2 = np.random.randint(45, 65, size=30)  # Random integers between 45 and 65\n",
    "group3 = np.random.randint(50, 70, size=30)  # Random integers between 50 and 70\n",
    "\n",
    "# Perform Kruskal-Wallis test\n",
    "stat, p_value = kruskal(group1, group2, group3)\n",
    "\n",
    "# Print results\n",
    "print(f\"Kruskal-Wallis H-statistic: {stat:.2f}\")\n",
    "print(f\"P-value: {p_value:.4f}\")\n",
    "\n",
    "# Interpretation\n",
    "if p_value < 0.05:\n",
    "    print(\"There is a significant difference between the group medians.\")\n",
    "else:\n",
    "    print(\"No significant difference between the group medians.\")\n"
   ]
  },
  {
   "cell_type": "code",
   "execution_count": null,
   "id": "5fa8e74f-fd37-4433-9b87-b72c218769f3",
   "metadata": {},
   "outputs": [],
   "source": []
  }
 ],
 "metadata": {
  "kernelspec": {
   "display_name": "Python 3 (ipykernel)",
   "language": "python",
   "name": "python3"
  },
  "language_info": {
   "codemirror_mode": {
    "name": "ipython",
    "version": 3
   },
   "file_extension": ".py",
   "mimetype": "text/x-python",
   "name": "python",
   "nbconvert_exporter": "python",
   "pygments_lexer": "ipython3",
   "version": "3.12.4"
  }
 },
 "nbformat": 4,
 "nbformat_minor": 5
}
