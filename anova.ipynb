{
 "cells": [
  {
   "cell_type": "code",
   "execution_count": 1,
   "id": "2521edb1-be45-4b4d-9672-638c0b213733",
   "metadata": {},
   "outputs": [
    {
     "name": "stdout",
     "output_type": "stream",
     "text": [
      "F-Statistic: 3.95\n",
      "P-Value: 0.0228\n",
      "There is a significant difference between the group means.\n"
     ]
    }
   ],
   "source": [
    "import numpy as np\n",
    "from scipy.stats import f_oneway\n",
    "\n",
    "# Step 1: Generate random data for three groups\n",
    "np.random.seed(42)  # For reproducibility\n",
    "group1 = np.random.normal(loc=50, scale=5, size=30)  # Mean=50, Std=5, n=30\n",
    "group2 = np.random.normal(loc=52, scale=5, size=30)  # Mean=52, Std=5, n=30\n",
    "group3 = np.random.normal(loc=48, scale=5, size=30)  # Mean=48, Std=5, n=30\n",
    "\n",
    "# Step 2: Perform ANOVA\n",
    "f_statistic, p_value = f_oneway(group1, group2, group3)\n",
    "\n",
    "# Step 3: Print results\n",
    "print(f\"F-Statistic: {f_statistic:.2f}\")\n",
    "print(f\"P-Value: {p_value:.4f}\")\n",
    "\n",
    "# Interpretation\n",
    "if p_value < 0.05:\n",
    "    print(\"There is a significant difference between the group means.\")\n",
    "else:\n",
    "    print(\"No significant difference between the group means.\")\n"
   ]
  },
  {
   "cell_type": "code",
   "execution_count": 3,
   "id": "ebc3f311-f132-4f5e-a0a7-566a548eb7e1",
   "metadata": {},
   "outputs": [
    {
     "name": "stdout",
     "output_type": "stream",
     "text": [
      "                          sum_sq    df         F    PR(>F)\n",
      "C(Group1)              15.717327   2.0  0.347072  0.707801\n",
      "C(Group2)               8.991836   2.0  0.198559  0.820310\n",
      "C(Group1):C(Group2)    86.163661   4.0  0.951337  0.438869\n",
      "Residual             1834.064592  81.0       NaN       NaN\n"
     ]
    }
   ],
   "source": [
    "import pandas as pd\n",
    "import statsmodels.api as sm\n",
    "from statsmodels.formula.api import ols\n",
    "\n",
    "# Generate random data\n",
    "np.random.seed(42)\n",
    "data = {\n",
    "    'Score': np.random.normal(loc=50, scale=5, size=90),\n",
    "    'Group1': np.repeat(['A', 'B', 'C'], 30),  # Factor 1\n",
    "    'Group2': ['X', 'Y', 'Z'] * 30  # Factor 2\n",
    "}\n",
    "df = pd.DataFrame(data)\n",
    "\n",
    "# Fit the two-way ANOVA model\n",
    "model = ols('Score ~ C(Group1) + C(Group2) + C(Group1):C(Group2)', data=df).fit()\n",
    "anova_table = sm.stats.anova_lm(model, typ=2)\n",
    "\n",
    "# Print results\n",
    "print(anova_table)\n"
   ]
  },
  {
   "cell_type": "code",
   "execution_count": null,
   "id": "04b4ceba-c925-45e2-93ed-31555ec2ebfe",
   "metadata": {},
   "outputs": [],
   "source": []
  }
 ],
 "metadata": {
  "kernelspec": {
   "display_name": "Python 3 (ipykernel)",
   "language": "python",
   "name": "python3"
  },
  "language_info": {
   "codemirror_mode": {
    "name": "ipython",
    "version": 3
   },
   "file_extension": ".py",
   "mimetype": "text/x-python",
   "name": "python",
   "nbconvert_exporter": "python",
   "pygments_lexer": "ipython3",
   "version": "3.12.4"
  }
 },
 "nbformat": 4,
 "nbformat_minor": 5
}
