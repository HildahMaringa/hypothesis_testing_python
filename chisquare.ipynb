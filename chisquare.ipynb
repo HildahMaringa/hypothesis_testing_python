{
 "cells": [
  {
   "cell_type": "markdown",
   "id": "7544bc5b-32e1-49ce-b303-f9ad2dbf1a3c",
   "metadata": {},
   "source": [
    "##  Goodness-of-Fit Test"
   ]
  },
  {
   "cell_type": "code",
   "execution_count": 2,
   "id": "063297a3-1ffd-49a1-bb2e-4b094b60722c",
   "metadata": {},
   "outputs": [
    {
     "name": "stdout",
     "output_type": "stream",
     "text": [
      "Chi-Square Statistic: 5.00\n",
      "P-Value: 0.0821\n",
      "No significant difference between observed and expected distributions.\n"
     ]
    }
   ],
   "source": [
    "from scipy.stats import chisquare\n",
    "\n",
    "# Observed and expected frequencies\n",
    "observed = [50, 30, 20]\n",
    "expected = [40, 40, 20]\n",
    "\n",
    "# Perform Chi-Square test\n",
    "chi2_stat, p_value = chisquare(f_obs=observed, f_exp=expected)\n",
    "\n",
    "# Print results\n",
    "print(f\"Chi-Square Statistic: {chi2_stat:.2f}\")\n",
    "print(f\"P-Value: {p_value:.4f}\")\n",
    "\n",
    "# Interpretation\n",
    "if p_value < 0.05:\n",
    "    print(\"The observed distribution is significantly different from the expected.\")\n",
    "else:\n",
    "    print(\"No significant difference between observed and expected distributions.\")\n"
   ]
  },
  {
   "cell_type": "markdown",
   "id": "d67351f5-1e05-4cb2-8b18-0b17a8446c3c",
   "metadata": {},
   "source": [
    "## Test of Independence"
   ]
  },
  {
   "cell_type": "code",
   "execution_count": 4,
   "id": "4869bc85-e9d9-4610-bfc9-bbb662cf7118",
   "metadata": {},
   "outputs": [
    {
     "name": "stdout",
     "output_type": "stream",
     "text": [
      "Chi-Square Statistic: 0.42\n",
      "P-Value: 0.9810\n",
      "Degrees of Freedom: 4\n",
      "Expected Frequencies:\n",
      "[[10.61538462 19.38461538 30.        ]\n",
      " [ 5.66153846 10.33846154 16.        ]\n",
      " [ 6.72307692 12.27692308 19.        ]]\n",
      "No significant association between the variables.\n"
     ]
    }
   ],
   "source": [
    "import numpy as np\n",
    "from scipy.stats import chi2_contingency\n",
    "\n",
    "# Contingency table (rows = categories of variable 1, columns = categories of variable 2)\n",
    "data = np.array([[10, 20, 30],  # Group 1\n",
    "                 [6, 9, 17],    # Group 2\n",
    "                 [7, 13, 18]])  # Group 3\n",
    "\n",
    "# Perform Chi-Square test\n",
    "chi2_stat, p_value, dof, expected = chi2_contingency(data)\n",
    "\n",
    "# Print results\n",
    "print(f\"Chi-Square Statistic: {chi2_stat:.2f}\")\n",
    "print(f\"P-Value: {p_value:.4f}\")\n",
    "print(f\"Degrees of Freedom: {dof}\")\n",
    "print(\"Expected Frequencies:\")\n",
    "print(expected)\n",
    "\n",
    "# Interpretation\n",
    "if p_value < 0.05:\n",
    "    print(\"There is a significant association between the variables.\")\n",
    "else:\n",
    "    print(\"No significant association between the variables.\")\n"
   ]
  },
  {
   "cell_type": "code",
   "execution_count": null,
   "id": "f0a7fed9-c01f-4cec-bfe4-fa93af42936a",
   "metadata": {},
   "outputs": [],
   "source": []
  }
 ],
 "metadata": {
  "kernelspec": {
   "display_name": "Python 3 (ipykernel)",
   "language": "python",
   "name": "python3"
  },
  "language_info": {
   "codemirror_mode": {
    "name": "ipython",
    "version": 3
   },
   "file_extension": ".py",
   "mimetype": "text/x-python",
   "name": "python",
   "nbconvert_exporter": "python",
   "pygments_lexer": "ipython3",
   "version": "3.12.4"
  }
 },
 "nbformat": 4,
 "nbformat_minor": 5
}
