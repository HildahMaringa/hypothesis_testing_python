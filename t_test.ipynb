{
 "cells": [
  {
   "cell_type": "code",
   "execution_count": 21,
   "id": "eb2b7d35-23d2-4cfd-85be-3ad55c110043",
   "metadata": {},
   "outputs": [
    {
     "name": "stdout",
     "output_type": "stream",
     "text": [
      "[58.08456866449333, 52.76022785296608, 42.02830555012789, 55.25495978053205, 54.53773097322738, 46.75508716086707, 32.49045406692347, 45.947064607104075, 57.05842853799663, 40.548024864966976, 40.608944435991525, 65.38622853423087, 50.03514100331949, 51.155995466147594, 42.11273758750025, 53.33831683281604, 43.77454168682703, 45.61885968560058, 41.279087179012656, 69.9944453679844, 57.31148190875237, 45.057848775452214, 72.15124165172944, 77.5338778874658, 93.616219508234, 55.85447779924792, 35.93581366270889, 43.010241883656164, 67.9459814685968, 20.853794616234932]\n",
      "[20.144862981220925, 119.88159044780264, 74.67458328016001, 112.80920058233737, -11.77199611013863, 47.671206607828786, 43.928026537619786, 96.97229920722816, 65.7961267062241, 12.385418838052672, 37.289253291451935, 7.665482691307361, 17.96567407390952, -12.796043561602147, 0.7869809447242204, 65.17096108094059, 52.826187171049966, 67.21706728079384, 60.66366011206471, 34.69536768238845, 97.79040884483297, -20.060241199131895, 46.66202643602726, 39.53436162012976, 39.30326976211186, 94.05377643952107, 99.58613219033467, 79.63753556006716, 27.55381319824056, 43.93543217902747]\n"
     ]
    }
   ],
   "source": [
    "#  T-test\n",
    "import numpy as np\n",
    "import random\n",
    "import scipy.stats as stats\n",
    "\n",
    "random.seed(123)\n",
    "\n",
    "a = [random.gauss(50, 20) for x in range(30)]\n",
    "b = [random.gauss(60, 40) for x in range(30)]\n",
    "\n",
    "print(a)\n",
    "print(b)"
   ]
  },
  {
   "cell_type": "code",
   "execution_count": 25,
   "id": "d5b91071-4c22-4783-ae1a-785a354760c9",
   "metadata": {},
   "outputs": [
    {
     "name": "stdout",
     "output_type": "stream",
     "text": [
      "T-statistics: 2.606105581957979\n",
      "P-value: 0.014307427826506743\n",
      "51.93467096669045\n"
     ]
    }
   ],
   "source": [
    "# One Sample T-test\n",
    "# Null hypothesis : mu = population mean(45) \n",
    "t_stat, p_value = stats.ttest_1samp(a, 45, axis = 0)\n",
    "\n",
    "print(\"T-statistics:\" , t_stat)\n",
    "print(\"P-value:\" , p_value)\n",
    "print (np.mean(a))"
   ]
  },
  {
   "cell_type": "markdown",
   "id": "1835f7ef-da97-4899-b44f-7c9fe67ac893",
   "metadata": {},
   "source": [
    "Interpretation of the results: The p-value is less than 0.05(signifance level) and the sample mean(appro. 52) is also ≠ population mean(45).\r",
    " We** reject the null hypothesi**.s"
   ]
  },
  {
   "cell_type": "code",
   "execution_count": 27,
   "id": "6d5bc8d0-3f4b-411e-9f81-45d00da62030",
   "metadata": {},
   "outputs": [
    {
     "name": "stdout",
     "output_type": "stream",
     "text": [
      "T-statistics: 0.4327290237051911\n",
      "P-value: 0.6676950816034133\n",
      "51.93467096669045 48.732414162550825\n"
     ]
    }
   ],
   "source": [
    "# Independent Sample T-test\n",
    "# Null hypothesis: mu of a = mu of b\n",
    "t_stat, p_value = stats.ttest_ind(a, b, equal_var = False)\n",
    "\n",
    "print(\"T-statistics:\" , t_stat)\n",
    "print(\"P-value:\" , p_value)\n",
    "print (np.mean(a), np.mean(b))"
   ]
  },
  {
   "cell_type": "markdown",
   "id": "14eabf61-0dfa-42c2-b60a-72cfc04301f9",
   "metadata": {},
   "source": [
    "The p-value is greater than 0.05, you fail to **reject the null hypothesis**. This suggests that there is no significant difference between the means of the two samples. The observed difference in means (3.20) is likely due to random chance rather than a true effect.s"
   ]
  },
  {
   "cell_type": "code",
   "execution_count": 31,
   "id": "fbfc3bc2-33eb-4b9e-b56a-1d7b9d1592f2",
   "metadata": {},
   "outputs": [
    {
     "name": "stdout",
     "output_type": "stream",
     "text": [
      "T-statistics: 0.42058135526575924\n",
      "P-value: 0.6771611910081343\n",
      "3.2022568041396227\n"
     ]
    }
   ],
   "source": [
    "# Dependent Sample T-test\n",
    "# Null hypothesis: mu of a - mu of b = 0\n",
    "t_stat, p_value = stats.ttest_rel(a, b)\n",
    "\n",
    "print(\"T-statistics:\" , t_stat)\n",
    "print(\"P-value:\" , p_value)\n",
    "print (np.mean(a) - np.mean(b))"
   ]
  },
  {
   "cell_type": "markdown",
   "id": "e3e22015-c839-4322-be29-09d88852bd12",
   "metadata": {},
   "source": [
    "Since the p-value is greater than 0.05, we **fail to reject the null hypothesis**. This indicates that the observed difference in means (3.20) between the two samples is not statistically significant.\r",
    "\r\n"
   ]
  }
 ],
 "metadata": {
  "kernelspec": {
   "display_name": "Python 3 (ipykernel)",
   "language": "python",
   "name": "python3"
  },
  "language_info": {
   "codemirror_mode": {
    "name": "ipython",
    "version": 3
   },
   "file_extension": ".py",
   "mimetype": "text/x-python",
   "name": "python",
   "nbconvert_exporter": "python",
   "pygments_lexer": "ipython3",
   "version": "3.12.4"
  }
 },
 "nbformat": 4,
 "nbformat_minor": 5
}
