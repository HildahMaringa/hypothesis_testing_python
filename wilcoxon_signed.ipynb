{
 "cells": [
  {
   "cell_type": "code",
   "execution_count": 1,
   "id": "1d96805b-288f-4e91-90af-91fddd9d105d",
   "metadata": {},
   "outputs": [
    {
     "name": "stdout",
     "output_type": "stream",
     "text": [
      "Wilcoxon Signed-Rank Statistic: 100.00\n",
      "P-Value: 0.8695\n",
      "No significant difference between the paired samples.\n"
     ]
    }
   ],
   "source": [
    "import numpy as np\n",
    "from scipy.stats import wilcoxon\n",
    "\n",
    "# Generate random paired data (e.g., before and after)\n",
    "np.random.seed(42)\n",
    "before = np.random.randint(50, 100, 20)  # Scores before intervention\n",
    "after = before + np.random.randint(-10, 10, 20)  # Scores after intervention\n",
    "\n",
    "# Perform Wilcoxon Signed-Rank Test\n",
    "stat, p_value = wilcoxon(before, after, alternative='two-sided')\n",
    "\n",
    "# Print results\n",
    "print(f\"Wilcoxon Signed-Rank Statistic: {stat:.2f}\")\n",
    "print(f\"P-Value: {p_value:.4f}\")\n",
    "\n",
    "# Interpretation\n",
    "if p_value < 0.05:\n",
    "    print(\"There is a significant difference between the paired samples.\")\n",
    "else:\n",
    "    print(\"No significant difference between the paired samples.\")\n",
    "\n"
   ]
  },
  {
   "cell_type": "code",
   "execution_count": null,
   "id": "14fe83e1-2d0c-4c40-83ca-666b351b8e3d",
   "metadata": {},
   "outputs": [],
   "source": []
  }
 ],
 "metadata": {
  "kernelspec": {
   "display_name": "Python 3 (ipykernel)",
   "language": "python",
   "name": "python3"
  },
  "language_info": {
   "codemirror_mode": {
    "name": "ipython",
    "version": 3
   },
   "file_extension": ".py",
   "mimetype": "text/x-python",
   "name": "python",
   "nbconvert_exporter": "python",
   "pygments_lexer": "ipython3",
   "version": "3.12.4"
  }
 },
 "nbformat": 4,
 "nbformat_minor": 5
}
